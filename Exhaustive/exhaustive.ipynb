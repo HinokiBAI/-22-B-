{
 "cells": [
  {
   "cell_type": "code",
   "execution_count": 10,
   "metadata": {},
   "outputs": [],
   "source": [
    "import pandas as pd\n",
    "import numpy as np\n",
    "import matplotlib.pyplot as plt"
   ]
  },
  {
   "cell_type": "code",
   "execution_count": 11,
   "metadata": {},
   "outputs": [
    {
     "data": {
      "text/plain": [
       "{'D3S1358': [16.0, 16.0],\n",
       " 'vWA': [14.0, 19.0],\n",
       " 'D16S539': [11.0, 12.0],\n",
       " 'CSF1PO': [12.0, 14.0],\n",
       " 'TPOX': [8.0, 8.0],\n",
       " 'Yindel': [2.0, 2.0],\n",
       " 'D8S1179': [10.0, 12.0],\n",
       " 'D21S11': [29.0, 33.2],\n",
       " 'D18S51': [14.0, 15.0],\n",
       " 'DYS391': [9.0, 9.0],\n",
       " 'D2S441': [10.0, 10.0],\n",
       " 'D19S433': [13.0, 13.0],\n",
       " 'TH01': [7.0, 9.0],\n",
       " 'FGA': [22.0, 24.0],\n",
       " 'D22S1045': [16.0, 17.0],\n",
       " 'D5S818': [11.0, 12.0],\n",
       " 'D13S317': [11.0, 11.0],\n",
       " 'D7S820': [11.0, 11.0],\n",
       " 'SE33': [25.2, 26.2],\n",
       " 'D10S1248': [13.0, 13.0],\n",
       " 'D1S1656': [15.0, 16.0],\n",
       " 'D12S391': [18.0, 22.0],\n",
       " 'D2S1338': [23.0, 26.0]}"
      ]
     },
     "execution_count": 11,
     "metadata": {},
     "output_type": "execute_result"
    }
   ],
   "source": [
    "person = 'A'\n",
    "reference = pd.read_csv('data/Refrence.csv')\n",
    "# 计算每个个体的基因座上的等位基因\n",
    "A_refrence_data = reference[reference['sample'] == person]\n",
    "alleles_dict = {A_refrence_data['marker']:[A_refrence_data['allele1'],A_refrence_data['allele2']] for index,A_refrence_data in A_refrence_data.iterrows()}\n",
    "alleles_dict"
   ]
  },
  {
   "cell_type": "code",
   "execution_count": 18,
   "metadata": {},
   "outputs": [
    {
     "data": {
      "text/html": [
       "<div>\n",
       "<style scoped>\n",
       "    .dataframe tbody tr th:only-of-type {\n",
       "        vertical-align: middle;\n",
       "    }\n",
       "\n",
       "    .dataframe tbody tr th {\n",
       "        vertical-align: top;\n",
       "    }\n",
       "\n",
       "    .dataframe thead th {\n",
       "        text-align: right;\n",
       "    }\n",
       "</style>\n",
       "<table border=\"1\" class=\"dataframe\">\n",
       "  <thead>\n",
       "    <tr style=\"text-align: right;\">\n",
       "      <th></th>\n",
       "      <th>Marker</th>\n",
       "      <th>Allele</th>\n",
       "      <th>Height</th>\n",
       "    </tr>\n",
       "  </thead>\n",
       "  <tbody>\n",
       "    <tr>\n",
       "      <th>0</th>\n",
       "      <td>D3S1358</td>\n",
       "      <td>9.0</td>\n",
       "      <td>7.0</td>\n",
       "    </tr>\n",
       "    <tr>\n",
       "      <th>1</th>\n",
       "      <td>D3S1358</td>\n",
       "      <td>10.0</td>\n",
       "      <td>11.0</td>\n",
       "    </tr>\n",
       "    <tr>\n",
       "      <th>2</th>\n",
       "      <td>D3S1358</td>\n",
       "      <td>11.0</td>\n",
       "      <td>9.0</td>\n",
       "    </tr>\n",
       "    <tr>\n",
       "      <th>3</th>\n",
       "      <td>D3S1358</td>\n",
       "      <td>12.0</td>\n",
       "      <td>0.0</td>\n",
       "    </tr>\n",
       "    <tr>\n",
       "      <th>4</th>\n",
       "      <td>D3S1358</td>\n",
       "      <td>13.0</td>\n",
       "      <td>9.0</td>\n",
       "    </tr>\n",
       "    <tr>\n",
       "      <th>...</th>\n",
       "      <td>...</td>\n",
       "      <td>...</td>\n",
       "      <td>...</td>\n",
       "    </tr>\n",
       "    <tr>\n",
       "      <th>336</th>\n",
       "      <td>D2S1338</td>\n",
       "      <td>24.0</td>\n",
       "      <td>20.0</td>\n",
       "    </tr>\n",
       "    <tr>\n",
       "      <th>337</th>\n",
       "      <td>D2S1338</td>\n",
       "      <td>25.0</td>\n",
       "      <td>48.0</td>\n",
       "    </tr>\n",
       "    <tr>\n",
       "      <th>338</th>\n",
       "      <td>D2S1338</td>\n",
       "      <td>26.0</td>\n",
       "      <td>394.0</td>\n",
       "    </tr>\n",
       "    <tr>\n",
       "      <th>339</th>\n",
       "      <td>D2S1338</td>\n",
       "      <td>27.0</td>\n",
       "      <td>15.0</td>\n",
       "    </tr>\n",
       "    <tr>\n",
       "      <th>340</th>\n",
       "      <td>D2S1338</td>\n",
       "      <td>28.0</td>\n",
       "      <td>15.0</td>\n",
       "    </tr>\n",
       "  </tbody>\n",
       "</table>\n",
       "<p>341 rows × 3 columns</p>\n",
       "</div>"
      ],
      "text/plain": [
       "      Marker  Allele  Height\n",
       "0    D3S1358     9.0     7.0\n",
       "1    D3S1358    10.0    11.0\n",
       "2    D3S1358    11.0     9.0\n",
       "3    D3S1358    12.0     0.0\n",
       "4    D3S1358    13.0     9.0\n",
       "..       ...     ...     ...\n",
       "336  D2S1338    24.0    20.0\n",
       "337  D2S1338    25.0    48.0\n",
       "338  D2S1338    26.0   394.0\n",
       "339  D2S1338    27.0    15.0\n",
       "340  D2S1338    28.0    15.0\n",
       "\n",
       "[341 rows x 3 columns]"
      ]
     },
     "execution_count": 18,
     "metadata": {},
     "output_type": "execute_result"
    }
   ],
   "source": [
    "init_data = pd.read_csv(f'data/{person}25pg.hid_Genotype.csv', usecols=['Marker', 'Allele', 'Height'])\n",
    "init_data['Height'] = init_data['Height'].apply(pd.to_numeric, errors='coerce').fillna(0.0)\n",
    "init_data"
   ]
  },
  {
   "cell_type": "code",
   "execution_count": 19,
   "metadata": {},
   "outputs": [],
   "source": [
    "threshold = 1\n",
    "threshold_list = []\n",
    "accurate_list = []\n",
    "accurate_rate_list = []\n",
    "error_list = []\n",
    "error_rate_list = []\n",
    "while threshold <= 500:\n",
    "    error = 0\n",
    "    accurate = 0\n",
    "    processed_data = init_data[init_data['Height'] < threshold]\n",
    "    for index, row in processed_data.iterrows():\n",
    "        if row['Allele'] == alleles_dict[row['Marker']][0] or row['Allele'] == alleles_dict[row['Marker']][1]:\n",
    "            error += 1\n",
    "        else:\n",
    "            accurate += 1\n",
    "    threshold_list.append(threshold)\n",
    "    error_list.append(error)\n",
    "    accurate_list.append(accurate)\n",
    "    error_rate_list.append(error / len(processed_data))\n",
    "    accurate_rate_list.append(accurate / len(processed_data))\n",
    "    threshold += 1"
   ]
  },
  {
   "cell_type": "code",
   "execution_count": 20,
   "metadata": {},
   "outputs": [
    {
     "data": {
      "text/plain": [
       "[<matplotlib.lines.Line2D at 0x7f4f82293d60>]"
      ]
     },
     "execution_count": 20,
     "metadata": {},
     "output_type": "execute_result"
    },
    {
     "data": {
      "image/png": "[encoded data removed]",
      "text/plain": [
       "<Figure size 432x288 with 1 Axes>"
      ]
     },
     "metadata": {
      "needs_background": "light"
     },
     "output_type": "display_data"
    }
   ],
   "source": [
    "plt.plot(threshold_list, error_list, label='error_rate')\n",
    "# plt.plot(threshold_list, accurate_rate_list, label='accurate_rate')"
   ]
  }
 ],
 "metadata": {
  "interpreter": {
   "hash": "e7370f93d1d0cde622a1f8e1c04877d8463912d04d973331ad4851f04de6915a"
  },
  "kernelspec": {
   "display_name": "Python 3.10.4 64-bit",
   "language": "python",
   "name": "python3"
  },
  "language_info": {
   "codemirror_mode": {
    "name": "ipython",
    "version": 3
   },
   "file_extension": ".py",
   "mimetype": "text/x-python",
   "name": "python",
   "nbconvert_exporter": "python",
   "pygments_lexer": "ipython3",
   "version": "3.10.4"
  },
  "orig_nbformat": 4
 },
 "nbformat": 4,
 "nbformat_minor": 2
}
